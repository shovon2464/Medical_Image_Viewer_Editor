{
 "cells": [
  {
   "cell_type": "markdown",
   "metadata": {},
   "source": [
    "SimpleITK based Segmentation"
   ]
  },
  {
   "cell_type": "code",
   "execution_count": 1,
   "metadata": {},
   "outputs": [],
   "source": [
    "# Importing SimpleITK library for medical image processing\n",
    "import SimpleITK as sitk\n",
    "# Importing numpy library for array operations\n",
    "import numpy as np  \n",
    "# Importing helper functions (assuming they are defined in helpers.py)\n",
    "from helpers import *  \n",
    "# Path to the sample MRI data file\n",
    "sample_mri_path = 'MRNet-v1.0/train/coronal/0002.npy' \n",
    "# Loading the MRI data file into a numpy array \n",
    "mri_array = np.load(sample_mri_path) \n"
   ]
  },
  {
   "cell_type": "code",
   "execution_count": 2,
   "metadata": {},
   "outputs": [],
   "source": [
    " # Convert the numpy array `mri_array` to a SimpleITK image object `mri_image`\n",
    "mri_image = sitk.GetImageFromArray(mri_array) \n"
   ]
  },
  {
   "cell_type": "code",
   "execution_count": 3,
   "metadata": {},
   "outputs": [
    {
     "data": {
      "text/plain": [
       "(32, 256, 256)"
      ]
     },
     "execution_count": 3,
     "metadata": {},
     "output_type": "execute_result"
    }
   ],
   "source": [
    "# Display a 3D visualization of the MRI array using a helper function\n",
    "explore_3D_array(mri_array)\n"
   ]
  },
  {
   "cell_type": "code",
   "execution_count": 4,
   "metadata": {},
   "outputs": [
    {
     "data": {
      "application/vnd.jupyter.widget-view+json": {
       "model_id": "887e99728e2e4e71bfd398077e0ab8db",
       "version_major": 2,
       "version_minor": 0
      },
      "text/plain": [
       "interactive(children=(IntSlider(value=15, description='SLICE', max=31), Output()), _dom_classes=('widget-inter…"
      ]
     },
     "metadata": {},
     "output_type": "display_data"
    }
   ],
   "source": [
    "# Display a 3D visualization of the MRI array using a helper function\n",
    "explore_3D_array(mri_array)explore_3D_array(mri_array)"
   ]
  },
  {
   "cell_type": "code",
   "execution_count": 5,
   "metadata": {},
   "outputs": [],
   "source": [
    "# Apply a segmentation threshold to the MRI image\n",
    "seg = mri_image > 200\n",
    "\n",
    "# Overlay the thresholded segmentation on the MRI image\n",
    "thresh_img = sitk.LabelOverlay(mri_image, seg)\n",
    "\n",
    "# Convert the thresholded image back to an array for further processing\n",
    "thresh_array = sitk.GetArrayFromImage(thresh_img)\n"
   ]
  },
  {
   "cell_type": "code",
   "execution_count": 6,
   "metadata": {},
   "outputs": [
    {
     "data": {
      "application/vnd.jupyter.widget-view+json": {
       "model_id": "9cf9ad23363a4fd2bafa0bb524a6b3f8",
       "version_major": 2,
       "version_minor": 0
      },
      "text/plain": [
       "interactive(children=(IntSlider(value=15, description='SLICE', max=31), Output()), _dom_classes=('widget-inter…"
      ]
     },
     "metadata": {},
     "output_type": "display_data"
    }
   ],
   "source": [
    "# Visualize the 3D array using a custom function\n",
    "explore_3D_array(thresh_array)\n"
   ]
  },
  {
   "cell_type": "code",
   "execution_count": 7,
   "metadata": {},
   "outputs": [],
   "source": [
    "# Create a binary threshold segmentation of the MRI image\n",
    "seg = sitk.BinaryThreshold(mri_image, lowerThreshold=100, upperThreshold=400, insideValue=1, outsideValue=0)\n",
    "\n",
    "# Overlay the original MRI image with the segmentation to create a labeled overlay image\n",
    "thresh_img = sitk.LabelOverlay(mri_image, seg)\n",
    "\n",
    "# Convert the labeled overlay image to a numpy array for visualization\n",
    "thresh_array = sitk.GetArrayFromImage(thresh_img)\n"
   ]
  },
  {
   "cell_type": "code",
   "execution_count": 8,
   "metadata": {},
   "outputs": [
    {
     "data": {
      "application/vnd.jupyter.widget-view+json": {
       "model_id": "d895cbace3364d308358a64446be7fbb",
       "version_major": 2,
       "version_minor": 0
      },
      "text/plain": [
       "interactive(children=(IntSlider(value=15, description='SLICE', max=31), Output()), _dom_classes=('widget-inter…"
      ]
     },
     "metadata": {},
     "output_type": "display_data"
    }
   ],
   "source": [
    "# Visualize the 3D array (thresh_array) using a custom function\n",
    "explore_3D_array(thresh_array)\n"
   ]
  },
  {
   "cell_type": "code",
   "execution_count": 9,
   "metadata": {},
   "outputs": [
    {
     "data": {
      "application/vnd.jupyter.widget-view+json": {
       "model_id": "b44bb54a33c2419fa31516fcc886ec7a",
       "version_major": 2,
       "version_minor": 0
      },
      "text/plain": [
       "interactive(children=(IntSlider(value=15, description='SLICE', max=31), Output()), _dom_classes=('widget-inter…"
      ]
     },
     "metadata": {},
     "output_type": "display_data"
    },
    {
     "name": "stdout",
     "output_type": "stream",
     "text": [
      "85.0\n"
     ]
    }
   ],
   "source": [
    "# Apply Otsu thresholding to the MRI image\n",
    "otsu_filter = sitk.OtsuThresholdImageFilter()\n",
    "otsu_filter.SetInsideValue(0)\n",
    "otsu_filter.SetOutsideValue(1)\n",
    "seg = otsu_filter.Execute(mri_image)\n",
    "\n",
    "# Overlay the segmented image with the original MRI image\n",
    "thresh_img = sitk.LabelOverlay(mri_image, seg)\n",
    "\n",
    "# Convert the labeled overlay image to a numpy array\n",
    "thresh_array = sitk.GetArrayFromImage(thresh_img)\n",
    "\n",
    "# Visualize the segmented 3D array using a custom function\n",
    "explore_3D_array(thresh_array)\n",
    "\n",
    "# Print the computed threshold value from the Otsu filter\n",
    "print(otsu_filter.GetThreshold())\n"
   ]
  },
  {
   "cell_type": "code",
   "execution_count": 10,
   "metadata": {},
   "outputs": [
    {
     "name": "stdout",
     "output_type": "stream",
     "text": [
      "(32, 256, 256)\n"
     ]
    }
   ],
   "source": [
    "print(mri_array.shape)"
   ]
  },
  {
   "cell_type": "code",
   "execution_count": 11,
   "metadata": {},
   "outputs": [
    {
     "data": {
      "application/vnd.jupyter.widget-view+json": {
       "model_id": "625dec5a315c4dfabb1c88aac4bf149c",
       "version_major": 2,
       "version_minor": 0
      },
      "text/plain": [
       "interactive(children=(IntSlider(value=15, description='SLICE', max=31), Output()), _dom_classes=('widget-inter…"
      ]
     },
     "metadata": {},
     "output_type": "display_data"
    }
   ],
   "source": [
    "# Define a seed point for region growing\n",
    "seed = (128, 128, 18)\n",
    "\n",
    "# Create a binary image for segmentation with the same size and metadata as the MRI image\n",
    "seg = sitk.Image(mri_image.GetSize(), sitk.sitkUInt8)\n",
    "seg.CopyInformation(mri_image)\n",
    "\n",
    "# Set the seed point to value 1 in the binary image\n",
    "seg[seed] = 1\n",
    "\n",
    "# Perform binary dilation on the segmented image using a (9,9,9) kernel\n",
    "seg = sitk.BinaryDilate(seg, (9, 9, 9))\n",
    "\n",
    "# Overlay the segmented image with the original MRI image\n",
    "thresh_img = sitk.LabelOverlay(mri_image, seg)\n",
    "\n",
    "# Convert the labeled overlay image to a numpy array\n",
    "thresh_array = sitk.GetArrayFromImage(thresh_img)\n",
    "\n",
    "# Visualize the segmented 3D array using a custom function\n",
    "explore_3D_array(thresh_array)\n"
   ]
  },
  {
   "cell_type": "code",
   "execution_count": 12,
   "metadata": {},
   "outputs": [
    {
     "data": {
      "application/vnd.jupyter.widget-view+json": {
       "model_id": "9c5a99102c3f46b18c4cb61ada60aa46",
       "version_major": 2,
       "version_minor": 0
      },
      "text/plain": [
       "interactive(children=(IntSlider(value=15, description='SLICE', max=31), Output()), _dom_classes=('widget-inter…"
      ]
     },
     "metadata": {},
     "output_type": "display_data"
    }
   ],
   "source": [
    "# Define a seed point for the confidence connected segmentation\n",
    "seed = (128, 150, 18)\n",
    "\n",
    "# Perform confidence connected segmentation starting from the seed point\n",
    "seg = sitk.ConfidenceConnected(mri_image,\n",
    "                               seedList=[seed],\n",
    "                               numberOfIterations=1,\n",
    "                               multiplier=2.5,\n",
    "                               initialNeighborhoodRadius=1,\n",
    "                               replaceValue=1)\n",
    "\n",
    "# Overlay the segmented image with the original MRI image\n",
    "thresh_img = sitk.LabelOverlay(mri_image, seg)\n",
    "\n",
    "# Convert the labeled overlay image to a numpy array\n",
    "thresh_array = sitk.GetArrayFromImage(thresh_img)\n",
    "\n",
    "# Visualize the segmented 3D array using a custom function\n",
    "explore_3D_array(thresh_array)\n"
   ]
  },
  {
   "cell_type": "code",
   "execution_count": 13,
   "metadata": {},
   "outputs": [
    {
     "data": {
      "application/vnd.jupyter.widget-view+json": {
       "model_id": "0c1b2a354d0945dd83359da4ef5a8b16",
       "version_major": 2,
       "version_minor": 0
      },
      "text/plain": [
       "interactive(children=(IntSlider(value=15, description='SLICE', max=31), Output()), _dom_classes=('widget-inter…"
      ]
     },
     "metadata": {},
     "output_type": "display_data"
    }
   ],
   "source": [
    "# Compute the gradient magnitude of the MRI image using a recursive Gaussian filter\n",
    "feature_img = sitk.GradientMagnitudeRecursiveGaussian(mri_image, sigma=0.5)\n",
    "\n",
    "# Compute the bounded reciprocal of the gradient magnitude image (speed image)\n",
    "speed_img = sitk.BoundedReciprocal(feature_img)\n",
    "\n",
    "# Convert the speed image to a numpy array for visualization\n",
    "thresh_array = sitk.GetArrayFromImage(speed_img)\n",
    "\n",
    "# Visualize the 3D array using a custom function\n",
    "explore_3D_array(thresh_array)\n"
   ]
  },
  {
   "cell_type": "code",
   "execution_count": 14,
   "metadata": {},
   "outputs": [
    {
     "data": {
      "application/vnd.jupyter.widget-view+json": {
       "model_id": "c17d196001ed4be1a0d2478fe69e5d9d",
       "version_major": 2,
       "version_minor": 0
      },
      "text/plain": [
       "interactive(children=(IntSlider(value=15, description='SLICE', max=31), Output()), _dom_classes=('widget-inter…"
      ]
     },
     "metadata": {},
     "output_type": "display_data"
    }
   ],
   "source": [
    "# Initialize the Fast Marching filter and set trial points and stopping value\n",
    "fm_filter = sitk.FastMarchingBaseImageFilter()\n",
    "fm_filter.SetTrialPoints([seed])\n",
    "fm_filter.SetStoppingValue(1000)\n",
    "\n",
    "# Execute the Fast Marching filter on the speed image\n",
    "fm_img = fm_filter.Execute(speed_img)\n",
    "\n",
    "# Threshold the Fast Marching image to create a segmentation\n",
    "thresh_img = sitk.Threshold(fm_img,\n",
    "                            lower=0.0,\n",
    "                            upper=fm_filter.GetStoppingValue(),\n",
    "                            outsideValue=fm_filter.GetStoppingValue() + 1)\n",
    "\n",
    "# Convert the thresholded image to a numpy array for visualization\n",
    "thresh_array = sitk.GetArrayFromImage(thresh_img)\n",
    "\n",
    "# Visualize the 3D array using a custom function\n",
    "explore_3D_array(thresh_array)\n"
   ]
  },
  {
   "cell_type": "code",
   "execution_count": 15,
   "metadata": {},
   "outputs": [
    {
     "name": "stdout",
     "output_type": "stream",
     "text": [
      "78.5598429607918 225.5295425140685\n"
     ]
    }
   ],
   "source": [
    "# Define the seed point and initialize the segmentation image\n",
    "seed = (128, 128, 18)\n",
    "seg = sitk.Image(mri_image.GetSize(), sitk.sitkUInt8)\n",
    "seg.CopyInformation(mri_image)\n",
    "seg[seed] = 1\n",
    "\n",
    "# Apply binary dilation to the segmentation image\n",
    "seg = sitk.BinaryDilate(seg, (3, 3, 3))\n",
    "\n",
    "# Compute statistics within the segmented region using LabelStatisticsImageFilter\n",
    "stats = sitk.LabelStatisticsImageFilter()\n",
    "stats.Execute(mri_image, seg)\n",
    "\n",
    "# Calculate lower and upper thresholds based on statistics\n",
    "factor = 3.5\n",
    "lower_threshold = stats.GetMean(1) - factor * stats.GetSigma(1)\n",
    "upper_threshold = stats.GetMean(1) + factor * stats.GetSigma(1)\n",
    "\n",
    "# Print the computed thresholds\n",
    "print(lower_threshold, upper_threshold)\n"
   ]
  },
  {
   "cell_type": "code",
   "execution_count": 16,
   "metadata": {},
   "outputs": [],
   "source": [
    "# Initialize the Signed Maurer Distance Map using the segmented image\n",
    "init_ls = sitk.SignedMaurerDistanceMap(seg, insideIsPositive=True, useImageSpacing=True)\n",
    "\n"
   ]
  },
  {
   "cell_type": "code",
   "execution_count": 17,
   "metadata": {},
   "outputs": [],
   "source": [
    "# Configure the Level Set segmentation filter\n",
    "lsFilter = sitk.ThresholdSegmentationLevelSetImageFilter()\n",
    "lsFilter.SetLowerThreshold(lower_threshold)\n",
    "lsFilter.SetUpperThreshold(upper_threshold)\n",
    "lsFilter.SetMaximumRMSError(0.02)\n",
    "lsFilter.SetNumberOfIterations(1000)\n",
    "lsFilter.SetCurvatureScaling(0.5)\n",
    "lsFilter.SetPropagationScaling(1)\n",
    "lsFilter.ReverseExpansionDirectionOn()\n",
    "\n",
    "# Execute the Level Set segmentation with the initialized distance map and MRI image\n",
    "ls = lsFilter.Execute(init_ls, sitk.Cast(mri_image, sitk.sitkFloat32))\n",
    "\n",
    "# Print the configured filter for reference\n",
    "print(lsFilter)\n"
   ]
  },
  {
   "cell_type": "code",
   "execution_count": null,
   "metadata": {},
   "outputs": [
    {
     "data": {
      "application/vnd.jupyter.widget-view+json": {
       "model_id": "b9b871b9ffd940b6bfb5d6de4b15b501",
       "version_major": 2,
       "version_minor": 0
      },
      "text/plain": [
       "interactive(children=(IntSlider(value=15, description='SLICE', max=31), Output()), _dom_classes=('widget-inter…"
      ]
     },
     "metadata": {},
     "output_type": "display_data"
    }
   ],
   "source": [
    "# Generate a label overlay image based on the Level Set segmentation result\n",
    "thresh_img = sitk.LabelOverlay(mri_image, ls > 0)\n",
    "\n",
    "# Convert the label overlay image to a NumPy array for visualization\n",
    "thresh_array = sitk.GetArrayFromImage(thresh_img)\n",
    "\n",
    "# Explore the 3D array to visualize the segmented regions\n",
    "explore_3D_array(thresh_array)\n",
    "\n",
    "# Comment: Visualize the MRI image with the segmented regions highlighted based on the Level Set result.\n"
   ]
  },
  {
   "cell_type": "code",
   "execution_count": null,
   "metadata": {},
   "outputs": [],
   "source": []
  }
 ],
 "metadata": {
  "kernelspec": {
   "display_name": "Python 3",
   "language": "python",
   "name": "python3"
  },
  "language_info": {
   "codemirror_mode": {
    "name": "ipython",
    "version": 3
   },
   "file_extension": ".py",
   "mimetype": "text/x-python",
   "name": "python",
   "nbconvert_exporter": "python",
   "pygments_lexer": "ipython3",
   "version": "3.12.1"
  }
 },
 "nbformat": 4,
 "nbformat_minor": 2
}
